{
  "nbformat": 4,
  "nbformat_minor": 0,
  "metadata": {
    "colab": {
      "provenance": []
    },
    "kernelspec": {
      "name": "python3",
      "display_name": "Python 3"
    },
    "language_info": {
      "name": "python"
    }
  },
  "cells": [
    {
      "cell_type": "code",
      "execution_count": 4,
      "metadata": {
        "id": "ZbmttQAL5lnH"
      },
      "outputs": [],
      "source": [
        "import torch"
      ]
    },
    {
      "cell_type": "markdown",
      "source": [
        "#Intersection Over Union Code"
      ],
      "metadata": {
        "id": "P2ZqAzyvEomb"
      }
    },
    {
      "cell_type": "code",
      "source": [
        "def intersection_over_union(boxes_preds, boxes_labels, box_format=\"midpoint\"):\n",
        "    if box_format == \"midpoint\":\n",
        "        box1_x1 = boxes_preds[..., 0:1] - boxes_preds[..., 2:3] / 2\n",
        "        box1_y1 = boxes_preds[..., 1:2] - boxes_preds[..., 3:4] / 2\n",
        "        box1_x2 = boxes_preds[..., 0:1] + boxes_preds[..., 2:3] / 2\n",
        "        box1_y2 = boxes_preds[..., 1:2] + boxes_preds[..., 3:4] / 2\n",
        "        box2_x1 = boxes_labels[..., 0:1] - boxes_labels[..., 2:3] / 2\n",
        "        box2_y1 = boxes_labels[..., 1:2] - boxes_labels[..., 3:4] / 2\n",
        "        box2_x2 = boxes_labels[..., 0:1] + boxes_labels[..., 2:3] / 2\n",
        "        box2_y2 = boxes_labels[..., 1:2] + boxes_labels[..., 3:4] / 2\n",
        "\n",
        "    elif box_format == \"corners\":\n",
        "        box1_x1 = boxes_preds[..., 0:1]\n",
        "        box1_y1 = boxes_preds[..., 1:2]\n",
        "        box1_x2 = boxes_preds[..., 2:3]\n",
        "        box1_y2 = boxes_preds[..., 3:4]\n",
        "        box2_x1 = boxes_labels[..., 0:1]\n",
        "        box2_y1 = boxes_labels[..., 1:2]\n",
        "        box2_x2 = boxes_labels[..., 2:3]\n",
        "        box2_y2 = boxes_labels[..., 3:4]\n",
        "\n",
        "    x1 = torch.max(box1_x1, box2_x1)\n",
        "    y1 = torch.max(box1_y1, box2_y1)\n",
        "    x2 = torch.min(box1_x2, box2_x2)\n",
        "    y2 = torch.min(box1_y2, box2_y2)\n",
        "\n",
        "    intersection = (x2 - x1).clamp(0) * (y2 - y1).clamp(0)\n",
        "    box1_area = abs((box1_x2 - box1_x1) * (box1_y2 - box1_y1))\n",
        "    box2_area = abs((box2_x2 - box2_x1) * (box2_y2 - box2_y1))\n",
        "\n",
        "    return intersection / (box1_area + box2_area - intersection + 1e-6)"
      ],
      "metadata": {
        "id": "dntftsDO6H8A"
      },
      "execution_count": 3,
      "outputs": []
    },
    {
      "cell_type": "markdown",
      "source": [
        "#Intersection Over Union Testing Code"
      ],
      "metadata": {
        "id": "R-ECWNOTEsTC"
      }
    },
    {
      "cell_type": "code",
      "source": [
        "import sys\n",
        "import unittest\n",
        "import torch"
      ],
      "metadata": {
        "id": "l8M_jOPGEzfS"
      },
      "execution_count": 9,
      "outputs": []
    },
    {
      "cell_type": "code",
      "source": [
        "class TestIntersectionOverUnion(unittest.TestCase):\n",
        "    def setUp(self):\n",
        "      # test cases we want to run\n",
        "        self.t1_box1 = torch.tensor([0.8, 0.1, 0.2, 0.2])\n",
        "        self.t1_box2 = torch.tensor([0.9, 0.2, 0.2, 0.2])\n",
        "        self.t1_correct_iou = 1 / 7\n",
        "\n",
        "        # Accept if the difference in iou is small\n",
        "        self.epsilon = 0.001\n",
        "\n",
        "    def test_both_inside_cell_shares_area(self):\n",
        "      iou = intersection_over_union(self.t1_box1, self.t1_box2, box_format=\"midpoint\")\n",
        "\n",
        "      # Convert the tensor to a float for printing\n",
        "      iou_value = iou.item()\n",
        "      correct_iou_value = self.t1_correct_iou  # This is already a float\n",
        "\n",
        "      if torch.abs(iou - self.t1_correct_iou) < self.epsilon:\n",
        "          print(f\"Success: IOU is {iou_value:.4f}, which is within the acceptable range of {correct_iou_value:.4f}.\")\n",
        "      else:\n",
        "          print(f\"Failure: IOU is {iou_value:.4f}, but expected {correct_iou_value:.4f}. Difference: {torch.abs(iou - self.t1_correct_iou).item():.4f}\")\n",
        "\n",
        "      self.assertTrue((torch.abs(iou - self.t1_correct_iou) < self.epsilon))\n"
      ],
      "metadata": {
        "id": "zoQOuspfE71t"
      },
      "execution_count": 25,
      "outputs": []
    },
    {
      "cell_type": "code",
      "source": [
        "if __name__ == \"__main__\":\n",
        "    unittest.main(argv=[''], exit=False)"
      ],
      "metadata": {
        "colab": {
          "base_uri": "https://localhost:8080/"
        },
        "id": "MV4LO7KmeLw4",
        "outputId": "367e759a-d6f7-488f-a6ee-7df8cced4b7e"
      },
      "execution_count": 26,
      "outputs": [
        {
          "output_type": "stream",
          "name": "stderr",
          "text": [
            ".\n",
            "----------------------------------------------------------------------\n",
            "Ran 1 test in 0.010s\n",
            "\n",
            "OK\n"
          ]
        },
        {
          "output_type": "stream",
          "name": "stdout",
          "text": [
            "Success: IOU is 0.1429, which is within the acceptable range of 0.1429.\n"
          ]
        }
      ]
    }
  ]
}