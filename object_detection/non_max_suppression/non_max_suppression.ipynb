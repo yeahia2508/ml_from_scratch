{
  "nbformat": 4,
  "nbformat_minor": 0,
  "metadata": {
    "colab": {
      "provenance": []
    },
    "kernelspec": {
      "name": "python3",
      "display_name": "Python 3"
    },
    "language_info": {
      "name": "python"
    }
  },
  "cells": [
    {
      "cell_type": "code",
      "source": [
        "import torch"
      ],
      "metadata": {
        "id": "wf9n5oJhBfke"
      },
      "execution_count": 3,
      "outputs": []
    },
    {
      "cell_type": "code",
      "source": [
        "def intersection_over_union(boxes_preds, boxes_labels, box_format=\"midpoint\"):\n",
        "    if box_format == \"midpoint\":\n",
        "        box1_x1 = boxes_preds[..., 0:1] - boxes_preds[..., 2:3] / 2\n",
        "        box1_y1 = boxes_preds[..., 1:2] - boxes_preds[..., 3:4] / 2\n",
        "        box1_x2 = boxes_preds[..., 0:1] + boxes_preds[..., 2:3] / 2\n",
        "        box1_y2 = boxes_preds[..., 1:2] + boxes_preds[..., 3:4] / 2\n",
        "        box2_x1 = boxes_labels[..., 0:1] - boxes_labels[..., 2:3] / 2\n",
        "        box2_y1 = boxes_labels[..., 1:2] - boxes_labels[..., 3:4] / 2\n",
        "        box2_x2 = boxes_labels[..., 0:1] + boxes_labels[..., 2:3] / 2\n",
        "        box2_y2 = boxes_labels[..., 1:2] + boxes_labels[..., 3:4] / 2\n",
        "\n",
        "    elif box_format == \"corners\":\n",
        "        box1_x1 = boxes_preds[..., 0:1]\n",
        "        box1_y1 = boxes_preds[..., 1:2]\n",
        "        box1_x2 = boxes_preds[..., 2:3]\n",
        "        box1_y2 = boxes_preds[..., 3:4]\n",
        "        box2_x1 = boxes_labels[..., 0:1]\n",
        "        box2_y1 = boxes_labels[..., 1:2]\n",
        "        box2_x2 = boxes_labels[..., 2:3]\n",
        "        box2_y2 = boxes_labels[..., 3:4]\n",
        "\n",
        "    x1 = torch.max(box1_x1, box2_x1)\n",
        "    y1 = torch.max(box1_y1, box2_y1)\n",
        "    x2 = torch.min(box1_x2, box2_x2)\n",
        "    y2 = torch.min(box1_y2, box2_y2)\n",
        "\n",
        "    intersection = (x2 - x1).clamp(0) * (y2 - y1).clamp(0)\n",
        "    box1_area = abs((box1_x2 - box1_x1) * (box1_y2 - box1_y1))\n",
        "    box2_area = abs((box2_x2 - box2_x1) * (box2_y2 - box2_y1))\n",
        "\n",
        "    return intersection / (box1_area + box2_area - intersection + 1e-6)"
      ],
      "metadata": {
        "id": "9nT6iVoXBg28"
      },
      "execution_count": 4,
      "outputs": []
    },
    {
      "cell_type": "code",
      "execution_count": 5,
      "metadata": {
        "id": "QfXweuaZAHvC"
      },
      "outputs": [],
      "source": [
        "def nms(bboxes, iou_threshold, threshold, box_format=\"corners\"):\n",
        "    assert type(bboxes) == list\n",
        "\n",
        "    bboxes = [box for box in bboxes if box[1] > threshold]\n",
        "    bboxes = sorted(bboxes, key=lambda x: x[1], reverse=True)\n",
        "    bboxes_after_nms = []\n",
        "\n",
        "    while bboxes:\n",
        "        chosen_box = bboxes.pop(0)\n",
        "\n",
        "        bboxes = [\n",
        "            box\n",
        "            for box in bboxes\n",
        "            if box[0] != chosen_box[0]\n",
        "            or intersection_over_union(\n",
        "                torch.tensor(chosen_box[2:]),\n",
        "                torch.tensor(box[2:]),\n",
        "                box_format=box_format,\n",
        "            )\n",
        "            < iou_threshold\n",
        "        ]\n",
        "\n",
        "        bboxes_after_nms.append(chosen_box)\n",
        "\n",
        "    return bboxes_after_nms"
      ]
    },
    {
      "cell_type": "code",
      "source": [
        "t1_boxes = [\n",
        "            [1, 1, 0.5, 0.45, 0.4, 0.5],\n",
        "            [1, 0.8, 0.5, 0.5, 0.2, 0.4],\n",
        "            [1, 0.7, 0.25, 0.35, 0.3, 0.1],\n",
        "            [1, 0.05, 0.1, 0.1, 0.1, 0.1],\n",
        "        ]"
      ],
      "metadata": {
        "id": "XwGsU-VeBqJ4"
      },
      "execution_count": 6,
      "outputs": []
    },
    {
      "cell_type": "markdown",
      "source": [
        "###Test Remove on Iou"
      ],
      "metadata": {
        "id": "UKw41EA2CRN2"
      }
    },
    {
      "cell_type": "code",
      "source": [
        "bboxes = nms(\n",
        "            t1_boxes,\n",
        "            threshold=0.2,\n",
        "            iou_threshold=7 / 20,\n",
        "            box_format=\"midpoint\",\n",
        "        )\n",
        "bboxes"
      ],
      "metadata": {
        "colab": {
          "base_uri": "https://localhost:8080/"
        },
        "id": "EljgO-SNBylF",
        "outputId": "0beb9e1d-a9d7-41f6-a1f1-13b24f732fc9"
      },
      "execution_count": 9,
      "outputs": [
        {
          "output_type": "execute_result",
          "data": {
            "text/plain": [
              "[[1, 1, 0.5, 0.45, 0.4, 0.5], [1, 0.7, 0.25, 0.35, 0.3, 0.1]]"
            ]
          },
          "metadata": {},
          "execution_count": 9
        }
      ]
    },
    {
      "cell_type": "markdown",
      "source": [
        "##Test Keep on Class"
      ],
      "metadata": {
        "id": "iFO33kqmCWZL"
      }
    },
    {
      "cell_type": "code",
      "source": [
        "t2_boxes = [\n",
        "            [1, 1, 0.5, 0.45, 0.4, 0.5],\n",
        "            [2, 0.9, 0.5, 0.5, 0.2, 0.4],\n",
        "            [1, 0.8, 0.25, 0.35, 0.3, 0.1],\n",
        "            [1, 0.05, 0.1, 0.1, 0.1, 0.1],\n",
        "        ]"
      ],
      "metadata": {
        "id": "7zLKPJM5CZpS"
      },
      "execution_count": 10,
      "outputs": []
    },
    {
      "cell_type": "code",
      "source": [
        "bboxes = nms(\n",
        "           t2_boxes,\n",
        "            threshold=0.2,\n",
        "            iou_threshold=7 / 20,\n",
        "            box_format=\"midpoint\",\n",
        "        )\n",
        "bboxes"
      ],
      "metadata": {
        "colab": {
          "base_uri": "https://localhost:8080/"
        },
        "id": "DH0MIoanCgWu",
        "outputId": "a6d518e0-2d18-4389-e475-9895cfd3ada1"
      },
      "execution_count": 11,
      "outputs": [
        {
          "output_type": "execute_result",
          "data": {
            "text/plain": [
              "[[1, 1, 0.5, 0.45, 0.4, 0.5],\n",
              " [2, 0.9, 0.5, 0.5, 0.2, 0.4],\n",
              " [1, 0.8, 0.25, 0.35, 0.3, 0.1]]"
            ]
          },
          "metadata": {},
          "execution_count": 11
        }
      ]
    },
    {
      "cell_type": "markdown",
      "source": [
        "## Test Remove on iou and class"
      ],
      "metadata": {
        "id": "u52iseelCupV"
      }
    },
    {
      "cell_type": "code",
      "source": [
        "t3_boxes = [\n",
        "            [1, 0.9, 0.5, 0.45, 0.4, 0.5],\n",
        "            [1, 1, 0.5, 0.5, 0.2, 0.4],\n",
        "            [2, 0.8, 0.25, 0.35, 0.3, 0.1],\n",
        "            [1, 0.05, 0.1, 0.1, 0.1, 0.1],\n",
        "        ]"
      ],
      "metadata": {
        "id": "Gq4ZY-wwCzV-"
      },
      "execution_count": 12,
      "outputs": []
    },
    {
      "cell_type": "code",
      "source": [
        "bboxes = nms(\n",
        "            t3_boxes,\n",
        "            threshold=0.2,\n",
        "            iou_threshold=7 / 20,\n",
        "            box_format=\"midpoint\",\n",
        "        )\n",
        "bboxes"
      ],
      "metadata": {
        "colab": {
          "base_uri": "https://localhost:8080/"
        },
        "id": "24SroHJ6C5Nn",
        "outputId": "aee53964-f8aa-4bf9-b60b-079135edb208"
      },
      "execution_count": 13,
      "outputs": [
        {
          "output_type": "execute_result",
          "data": {
            "text/plain": [
              "[[1, 1, 0.5, 0.5, 0.2, 0.4], [2, 0.8, 0.25, 0.35, 0.3, 0.1]]"
            ]
          },
          "metadata": {},
          "execution_count": 13
        }
      ]
    },
    {
      "cell_type": "markdown",
      "source": [
        "##Test Keep on iou"
      ],
      "metadata": {
        "id": "jbqhgIPwDJzQ"
      }
    },
    {
      "cell_type": "code",
      "source": [
        "t4_boxes = [\n",
        "            [1, 0.9, 0.5, 0.45, 0.4, 0.5],\n",
        "            [1, 1, 0.5, 0.5, 0.2, 0.4],\n",
        "            [1, 0.8, 0.25, 0.35, 0.3, 0.1],\n",
        "            [1, 0.05, 0.1, 0.1, 0.1, 0.1],\n",
        "        ]"
      ],
      "metadata": {
        "id": "3wBim6rBDOyX"
      },
      "execution_count": 14,
      "outputs": []
    },
    {
      "cell_type": "code",
      "source": [
        "bboxes = nms(\n",
        "            t4_boxes,\n",
        "            threshold=0.2,\n",
        "            iou_threshold=7 / 20,\n",
        "            box_format=\"midpoint\",\n",
        "        )\n",
        "bboxes"
      ],
      "metadata": {
        "colab": {
          "base_uri": "https://localhost:8080/"
        },
        "id": "bGGcfNk_DQe_",
        "outputId": "db2b359d-0aa6-4f71-84fe-ef59707728e8"
      },
      "execution_count": 15,
      "outputs": [
        {
          "output_type": "execute_result",
          "data": {
            "text/plain": [
              "[[1, 1, 0.5, 0.5, 0.2, 0.4], [1, 0.8, 0.25, 0.35, 0.3, 0.1]]"
            ]
          },
          "metadata": {},
          "execution_count": 15
        }
      ]
    }
  ]
}